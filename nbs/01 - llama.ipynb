{
 "cells": [
  {
   "cell_type": "code",
   "execution_count": 1,
   "id": "cb54ff83-3439-4f53-a7cb-b0ef203ebff2",
   "metadata": {},
   "outputs": [],
   "source": [
    "import torch\n",
    "import transformers\n",
    "from transformers import AutoTokenizer, AutoConfig, AutoModelForCausalLM\n",
    "from transformers.generation.configuration_utils import GenerationConfig"
   ]
  },
  {
   "cell_type": "code",
   "execution_count": 2,
   "id": "779e56bc-c197-4aca-958f-5a031add2793",
   "metadata": {},
   "outputs": [
    {
     "name": "stderr",
     "output_type": "stream",
     "text": [
      "Special tokens have been added in the vocabulary, make sure the associated word embeddings are fine-tuned or trained.\n"
     ]
    }
   ],
   "source": [
    "config = AutoConfig.from_pretrained(\"meta-llama/Meta-Llama-3-8B-Instruct\")\n",
    "tokenizer = AutoTokenizer.from_pretrained(\"meta-llama/Meta-Llama-3-8B-Instruct\")"
   ]
  },
  {
   "cell_type": "code",
   "execution_count": 3,
   "id": "5f16ad8c-9c6d-46ea-b567-3993142788b6",
   "metadata": {},
   "outputs": [
    {
     "data": {
      "application/vnd.jupyter.widget-view+json": {
       "model_id": "275fecab25804c7a99ed4a00b7847334",
       "version_major": 2,
       "version_minor": 0
      },
      "text/plain": [
       "Loading checkpoint shards:   0%|          | 0/4 [00:00<?, ?it/s]"
      ]
     },
     "metadata": {},
     "output_type": "display_data"
    }
   ],
   "source": [
    "model = AutoModelForCausalLM.from_pretrained(\"meta-llama/Meta-Llama-3-8B-Instruct\", config=config)"
   ]
  },
  {
   "cell_type": "code",
   "execution_count": 4,
   "id": "c3e57448-e083-42ae-9ce4-cab7d662d0fb",
   "metadata": {},
   "outputs": [
    {
     "data": {
      "text/plain": [
       "LlamaDecoderLayer(\n",
       "  (self_attn): LlamaSdpaAttention(\n",
       "    (q_proj): Linear(in_features=4096, out_features=4096, bias=False)\n",
       "    (k_proj): Linear(in_features=4096, out_features=1024, bias=False)\n",
       "    (v_proj): Linear(in_features=4096, out_features=1024, bias=False)\n",
       "    (o_proj): Linear(in_features=4096, out_features=4096, bias=False)\n",
       "    (rotary_emb): LlamaDynamicNTKScalingRotaryEmbedding()\n",
       "  )\n",
       "  (mlp): LlamaMLP(\n",
       "    (gate_proj): Linear(in_features=4096, out_features=14336, bias=False)\n",
       "    (up_proj): Linear(in_features=4096, out_features=14336, bias=False)\n",
       "    (down_proj): Linear(in_features=14336, out_features=4096, bias=False)\n",
       "    (act_fn): SiLU()\n",
       "  )\n",
       "  (input_layernorm): LlamaRMSNorm()\n",
       "  (post_attention_layernorm): LlamaRMSNorm()\n",
       ")"
      ]
     },
     "execution_count": 4,
     "metadata": {},
     "output_type": "execute_result"
    }
   ],
   "source": [
    "model.model.layers[0]"
   ]
  },
  {
   "cell_type": "code",
   "execution_count": 5,
   "id": "4c0a8d1f-da14-467e-b7b4-180e1d7fcedb",
   "metadata": {},
   "outputs": [],
   "source": [
    "model.cuda();"
   ]
  },
  {
   "cell_type": "code",
   "execution_count": 6,
   "id": "42890249-c3e1-47c0-a2b9-373555b035d7",
   "metadata": {},
   "outputs": [
    {
     "data": {
      "text/plain": [
       "32"
      ]
     },
     "execution_count": 6,
     "metadata": {},
     "output_type": "execute_result"
    }
   ],
   "source": [
    "len(model.model.layers)"
   ]
  },
  {
   "cell_type": "code",
   "execution_count": 7,
   "id": "1579c5cb-5832-4617-977a-15474fc5a31b",
   "metadata": {},
   "outputs": [
    {
     "data": {
      "text/plain": [
       "(False, True)"
      ]
     },
     "execution_count": 7,
     "metadata": {},
     "output_type": "execute_result"
    }
   ],
   "source": [
    "model.training, config.use_cache"
   ]
  },
  {
   "cell_type": "code",
   "execution_count": 8,
   "id": "031466fd-d65a-464e-a4cd-77a0bb768c5e",
   "metadata": {},
   "outputs": [],
   "source": [
    "x = torch.randint(0,100,(1,16)).cuda()"
   ]
  },
  {
   "cell_type": "code",
   "execution_count": 9,
   "id": "e2749af3-bbc8-4082-879f-935df32321ac",
   "metadata": {},
   "outputs": [
    {
     "data": {
      "text/plain": [
       "torch.Size([1, 16])"
      ]
     },
     "execution_count": 9,
     "metadata": {},
     "output_type": "execute_result"
    }
   ],
   "source": [
    "x.shape"
   ]
  },
  {
   "cell_type": "code",
   "execution_count": 10,
   "id": "bd82da3f-3cfb-4754-b270-0a9ccad2a9fa",
   "metadata": {},
   "outputs": [],
   "source": [
    "model.config.use_cla = False\n",
    "model.config.cla_factor = None"
   ]
  },
  {
   "cell_type": "code",
   "execution_count": 11,
   "id": "a77335bf-5a17-442e-80e8-8784b010a206",
   "metadata": {},
   "outputs": [
    {
     "name": "stderr",
     "output_type": "stream",
     "text": [
      "We detected that you are passing `past_key_values` as a tuple and this is deprecated and will be removed in v4.43. Please use an appropriate `Cache` class (https://huggingface.co/docs/transformers/v4.41.3/en/internal/generation_utils#transformers.Cache)\n"
     ]
    }
   ],
   "source": [
    "output = model(**{\"input_ids\":x})"
   ]
  },
  {
   "cell_type": "code",
   "execution_count": 12,
   "id": "d4177fc4-d277-4517-b479-8ecab080e59c",
   "metadata": {},
   "outputs": [
    {
     "data": {
      "text/plain": [
       "tensor([[[ 1.1543, -0.4030, -0.9169,  ..., -3.9624, -3.9625, -3.9625],\n",
       "         [ 4.1748,  8.3917,  4.7381,  ..., -4.6748, -4.6749, -4.6749],\n",
       "         [ 5.5781,  7.3743,  6.2945,  ..., -4.1477, -4.1479, -4.1478],\n",
       "         ...,\n",
       "         [ 5.7303,  3.5076,  4.6866,  ..., -2.4438, -2.4442, -2.4439],\n",
       "         [ 7.8036,  7.8437,  9.1977,  ..., -2.6672, -2.6676, -2.6673],\n",
       "         [ 8.0629,  7.7348,  9.0712,  ..., -2.2379, -2.2380, -2.2379]]],\n",
       "       device='cuda:0', grad_fn=<UnsafeViewBackward0>)"
      ]
     },
     "execution_count": 12,
     "metadata": {},
     "output_type": "execute_result"
    }
   ],
   "source": [
    "output.logits"
   ]
  },
  {
   "cell_type": "code",
   "execution_count": 13,
   "id": "b34a13d2-3e79-4d50-b44b-205149d7536c",
   "metadata": {},
   "outputs": [],
   "source": [
    "model.config.use_cla = True\n",
    "model.config.cla_factor = 1"
   ]
  },
  {
   "cell_type": "code",
   "execution_count": 14,
   "id": "b00b82f9-8d2e-4fcd-b912-414cad4b2f4b",
   "metadata": {},
   "outputs": [],
   "source": [
    "output = model(**{\"input_ids\":x})"
   ]
  },
  {
   "cell_type": "code",
   "execution_count": 15,
   "id": "bef5954d-f12b-448b-87b3-76a58711a621",
   "metadata": {},
   "outputs": [
    {
     "data": {
      "text/plain": [
       "tensor([[[ 1.1543, -0.4030, -0.9169,  ..., -3.9624, -3.9625, -3.9625],\n",
       "         [ 4.1748,  8.3917,  4.7381,  ..., -4.6748, -4.6749, -4.6749],\n",
       "         [ 5.5781,  7.3743,  6.2945,  ..., -4.1477, -4.1479, -4.1478],\n",
       "         ...,\n",
       "         [ 5.7303,  3.5076,  4.6866,  ..., -2.4438, -2.4442, -2.4439],\n",
       "         [ 7.8036,  7.8437,  9.1977,  ..., -2.6672, -2.6676, -2.6673],\n",
       "         [ 8.0629,  7.7348,  9.0712,  ..., -2.2379, -2.2380, -2.2379]]],\n",
       "       device='cuda:0', grad_fn=<UnsafeViewBackward0>)"
      ]
     },
     "execution_count": 15,
     "metadata": {},
     "output_type": "execute_result"
    }
   ],
   "source": [
    "output.logits"
   ]
  },
  {
   "cell_type": "code",
   "execution_count": 16,
   "id": "a1c7c56d-f3b2-41a4-a7ab-c73771f1276a",
   "metadata": {},
   "outputs": [],
   "source": [
    "model.config.use_cla = True\n",
    "model.config.cla_factor = 2"
   ]
  },
  {
   "cell_type": "code",
   "execution_count": 17,
   "id": "8159db11-d75b-4108-8b41-e16a0b36c56f",
   "metadata": {
    "scrolled": true
   },
   "outputs": [],
   "source": [
    "output = model(**{\"input_ids\":x})"
   ]
  },
  {
   "cell_type": "code",
   "execution_count": 19,
   "id": "2dd5a570-739d-49e1-ae91-0d1570252a16",
   "metadata": {},
   "outputs": [
    {
     "data": {
      "text/plain": [
       "tensor([[[ 1.5976,  3.7597,  5.2264,  ..., -3.1546, -3.1546, -3.1545],\n",
       "         [ 5.1862,  6.1135,  2.3630,  ..., -3.9097, -3.9096, -3.9097],\n",
       "         [ 6.0368,  6.2814,  3.1696,  ..., -4.4445, -4.4445, -4.4444],\n",
       "         ...,\n",
       "         [ 4.0171,  1.7216,  1.8627,  ..., -2.7373, -2.7373, -2.7369],\n",
       "         [ 4.6751,  5.4727,  4.9282,  ..., -2.3280, -2.3279, -2.3276],\n",
       "         [ 4.6047,  5.1129,  5.0691,  ..., -2.7998, -2.7996, -2.7993]]],\n",
       "       device='cuda:0', grad_fn=<UnsafeViewBackward0>)"
      ]
     },
     "execution_count": 19,
     "metadata": {},
     "output_type": "execute_result"
    }
   ],
   "source": [
    "output.logits"
   ]
  },
  {
   "cell_type": "markdown",
   "id": "c9de5af4-c1eb-47b5-9d64-918a55ab584b",
   "metadata": {},
   "source": [
    "### Decoding"
   ]
  },
  {
   "cell_type": "code",
   "execution_count": 20,
   "id": "6d6e7558-0048-4268-9bcb-eff8e34ab59c",
   "metadata": {},
   "outputs": [],
   "source": [
    "inp = torch.tensor(tokenizer.encode(\"Say Hello world\")).cuda()"
   ]
  },
  {
   "cell_type": "code",
   "execution_count": 21,
   "id": "a77f32e0-b352-45b9-8dbf-f41eb133933c",
   "metadata": {
    "scrolled": true
   },
   "outputs": [],
   "source": [
    "messages = [\n",
    "    {\"role\": \"system\", \"content\": \"You are an AI assistant.\"},\n",
    "    {\"role\": \"user\", \"content\": \"Say Hello world 10 times as numbered list.\"}\n",
    "]\n",
    "input_tokens = tokenizer.apply_chat_template(\n",
    "    messages,\n",
    "    tokenize=True,\n",
    "    add_generation_prompt=True, \n",
    "    return_tensors=\"pt\"\n",
    ").cuda()"
   ]
  },
  {
   "cell_type": "code",
   "execution_count": 22,
   "id": "52e5a6b6-6d1b-454c-8f34-23cb9e048cd2",
   "metadata": {},
   "outputs": [],
   "source": [
    "model.config.use_cache = False"
   ]
  },
  {
   "cell_type": "code",
   "execution_count": 23,
   "id": "d4631fb0-7f79-4e34-b053-2b57ca58e4e3",
   "metadata": {},
   "outputs": [
    {
     "name": "stderr",
     "output_type": "stream",
     "text": [
      "The attention mask and the pad token id were not set. As a consequence, you may observe unexpected behavior. Please pass your input's `attention_mask` to obtain reliable results.\n",
      "Setting `pad_token_id` to `eos_token_id`:128001 for open-end generation.\n",
      "The attention mask is not set and cannot be inferred from input because pad token is same as eos token.As a consequence, you may observe unexpected behavior. Please pass your input's `attention_mask` to obtain reliable results.\n"
     ]
    }
   ],
   "source": [
    "new_tokens = model.generate(input_tokens, max_new_tokens=128, use_cache=False)"
   ]
  },
  {
   "cell_type": "code",
   "execution_count": 24,
   "id": "dc900788-dd24-44f3-b610-3f68bd881d48",
   "metadata": {},
   "outputs": [
    {
     "name": "stdout",
     "output_type": "stream",
     "text": [
      "<|begin_of_text|><|start_header_id|>system<|end_header_id|>\n",
      "\n",
      "You are an AI assistant.<|eot_id|><|start_header_id|>user<|end_header_id|>\n",
      "\n",
      "Say Hello world 10 times as numbered list.<|eot_id|><|start_header_id|>assistant<|end_header_id|>\n",
      "\n",
      "*? Madison; and; and; and; and;udo; m; and; m; and; and; and; and;#; roadmap;   ;         ;  ;    Musc;   ;      Road    Road               Road  ;   ;  Road   ;  ;  ;  ;  *  ;  *�͊��� ‐�\n"
     ]
    }
   ],
   "source": [
    "print(tokenizer.decode(new_tokens[0]))"
   ]
  },
  {
   "cell_type": "code",
   "execution_count": null,
   "id": "6c4580a6-ec1c-491e-938d-4065dfb36092",
   "metadata": {},
   "outputs": [],
   "source": []
  },
  {
   "cell_type": "code",
   "execution_count": null,
   "id": "842fe366-baf8-471a-a17f-fc55cfe5af4f",
   "metadata": {},
   "outputs": [],
   "source": []
  },
  {
   "cell_type": "code",
   "execution_count": null,
   "id": "eb3c130c-9959-4981-97ca-900f2f4738db",
   "metadata": {},
   "outputs": [],
   "source": []
  },
  {
   "cell_type": "code",
   "execution_count": null,
   "id": "93f4a9fb-1547-4f99-81d7-5f85b0a63fad",
   "metadata": {},
   "outputs": [],
   "source": []
  },
  {
   "cell_type": "code",
   "execution_count": null,
   "id": "60329c2c-4242-4a0d-af09-a5b07c4378a7",
   "metadata": {},
   "outputs": [],
   "source": []
  },
  {
   "cell_type": "code",
   "execution_count": null,
   "id": "be90636e-086a-4a79-94e4-3685a3139197",
   "metadata": {},
   "outputs": [],
   "source": []
  }
 ],
 "metadata": {
  "kernelspec": {
   "display_name": "Python 3 (ipykernel)",
   "language": "python",
   "name": "python3"
  },
  "language_info": {
   "codemirror_mode": {
    "name": "ipython",
    "version": 3
   },
   "file_extension": ".py",
   "mimetype": "text/x-python",
   "name": "python",
   "nbconvert_exporter": "python",
   "pygments_lexer": "ipython3",
   "version": "3.10.12"
  }
 },
 "nbformat": 4,
 "nbformat_minor": 5
}
